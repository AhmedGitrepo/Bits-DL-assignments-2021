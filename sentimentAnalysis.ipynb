{
 "cells": [
  {
   "cell_type": "code",
   "execution_count": null,
   "metadata": {
    "id": "nJkWxDRzSl6a"
   },
   "outputs": [],
   "source": [
    "!pip install --upgrade tensorflow"
   ]
  },
  {
   "cell_type": "code",
   "execution_count": 2,
   "metadata": {
    "id": "QCqQC2mySp6k"
   },
   "outputs": [
    {
     "name": "stdout",
     "output_type": "stream",
     "text": [
      "^C\n"
     ]
    }
   ],
   "source": [
    "!pip install --upgrade scikit-learn"
   ]
  },
  {
   "cell_type": "code",
   "execution_count": null,
   "metadata": {
    "id": "kCNDV5O4Ste1"
   },
   "outputs": [],
   "source": [
    "from google.colab import drive\n",
    "drive.mount('/content/drive')"
   ]
  },
  {
   "cell_type": "code",
   "execution_count": 5,
   "metadata": {
    "id": "Z6NLXb01TpwB"
   },
   "outputs": [
    {
     "name": "stdout",
     "output_type": "stream",
     "text": [
      "No GPU was detected. This code can be very slow without a GPU.\n"
     ]
    }
   ],
   "source": [
    "import sys\n",
    "assert sys.version_info >= (3, 5)\n",
    "import tensorflow as tf\n",
    "from tensorflow import keras\n",
    "from tensorflow.keras import layers\n",
    "from tensorflow.keras.layers import Dense, Dropout\n",
    "from tensorflow.keras import optimizers\n",
    "import tensorflow_hub as hub\n",
    "assert tf.__version__ >= \"2.0\"\n",
    "\n",
    "import sklearn\n",
    "assert sklearn.__version__ >= \"0.20\"\n",
    "\n",
    "try:\n",
    "    %tensorflow_version 2.x\n",
    "    !pip install -q -U tensorflow-addons\n",
    "    IS_COLAB = True\n",
    "except Exception:\n",
    "    IS_COLAB = False\n",
    "\n",
    "if not tf.test.is_gpu_available():\n",
    "    print(\"No GPU was detected. This code can be very slow without a GPU.\")\n",
    "    if IS_COLAB:\n",
    "        print(\"Go to Runtime > Change runtime and select a GPU hardware accelerator.\")\n",
    "\n",
    "import time\n",
    "import pandas as pd\n",
    "import numpy as np\n",
    "import os\n",
    "\n",
    "np.random.seed(20)\n",
    "tf.random.set_seed(20)\n",
    "\n",
    "PROJECT_ROOT_DIR = \".\"\n",
    "FOLDER= \"rnn\"\n",
    "IMAGES_PATH = os.path.join(PROJECT_ROOT_DIR, \"images\", FOLDER)\n",
    "os.makedirs(IMAGES_PATH, exist_ok=True)\n",
    "\n",
    "def save_fig(fig_id, tight_layout=True, fig_extension=\"png\", resolution=300):\n",
    "    path = os.path.join(IMAGES_PATH, fig_id + \".\" + fig_extension)\n",
    "    print(\"Saving figure\", fig_id)\n",
    "    if tight_layout:\n",
    "        plt.tight_layout()\n",
    "    plt.savefig(path, format=fig_extension, dpi=resolution)"
   ]
  },
  {
   "cell_type": "code",
   "execution_count": 6,
   "metadata": {
    "id": "VvvSK6ArUo4U"
   },
   "outputs": [
    {
     "data": {
      "text/plain": [
       "'2.3.0'"
      ]
     },
     "execution_count": 6,
     "metadata": {},
     "output_type": "execute_result"
    }
   ],
   "source": [
    "tf.__version__"
   ]
  },
  {
   "cell_type": "code",
   "execution_count": 7,
   "metadata": {
    "id": "83lNRzuZWOnC"
   },
   "outputs": [
    {
     "data": {
      "text/plain": [
       "False"
      ]
     },
     "execution_count": 7,
     "metadata": {},
     "output_type": "execute_result"
    }
   ],
   "source": [
    "import tensorflow as tf\n",
    "tf.test.is_gpu_available()"
   ]
  },
  {
   "cell_type": "code",
   "execution_count": 38,
   "metadata": {
    "id": "ZGxwrcZSWRXw"
   },
   "outputs": [
    {
     "name": "stdout",
     "output_type": "stream",
     "text": [
      "Requirement already satisfied: spacy in c:\\users\\satya\\anaconda3\\envs\\tenserflow\\lib\\site-packages (2.3.5)\n",
      "Requirement already satisfied: blis<0.8.0,>=0.4.0 in c:\\users\\satya\\anaconda3\\envs\\tenserflow\\lib\\site-packages (from spacy) (0.7.4)\n",
      "Requirement already satisfied: murmurhash<1.1.0,>=0.28.0 in c:\\users\\satya\\anaconda3\\envs\\tenserflow\\lib\\site-packages (from spacy) (1.0.5)\n",
      "Requirement already satisfied: plac<1.2.0,>=0.9.6 in c:\\users\\satya\\anaconda3\\envs\\tenserflow\\lib\\site-packages (from spacy) (1.1.0)\n",
      "Requirement already satisfied: tqdm<5.0.0,>=4.38.0 in c:\\users\\satya\\anaconda3\\envs\\tenserflow\\lib\\site-packages (from spacy) (4.59.0)\n",
      "Requirement already satisfied: preshed<3.1.0,>=3.0.2 in c:\\users\\satya\\anaconda3\\envs\\tenserflow\\lib\\site-packages (from spacy) (3.0.5)\n",
      "Requirement already satisfied: numpy>=1.15.0 in c:\\users\\satya\\anaconda3\\envs\\tenserflow\\lib\\site-packages (from spacy) (1.20.1)\n",
      "Requirement already satisfied: requests<3.0.0,>=2.13.0 in c:\\users\\satya\\anaconda3\\envs\\tenserflow\\lib\\site-packages (from spacy) (2.25.1)\n",
      "Requirement already satisfied: thinc<7.5.0,>=7.4.1 in c:\\users\\satya\\anaconda3\\envs\\tenserflow\\lib\\site-packages (from spacy) (7.4.5)\n",
      "Requirement already satisfied: wasabi<1.1.0,>=0.4.0 in c:\\users\\satya\\anaconda3\\envs\\tenserflow\\lib\\site-packages (from spacy) (0.8.2)\n",
      "Requirement already satisfied: catalogue<1.1.0,>=0.0.7 in c:\\users\\satya\\anaconda3\\envs\\tenserflow\\lib\\site-packages (from spacy) (1.0.0)\n",
      "Requirement already satisfied: srsly<1.1.0,>=1.0.2 in c:\\users\\satya\\anaconda3\\envs\\tenserflow\\lib\\site-packages (from spacy) (1.0.5)\n",
      "Requirement already satisfied: cymem<2.1.0,>=2.0.2 in c:\\users\\satya\\anaconda3\\envs\\tenserflow\\lib\\site-packages (from spacy) (2.0.5)\n",
      "Requirement already satisfied: setuptools in c:\\users\\satya\\anaconda3\\envs\\tenserflow\\lib\\site-packages (from spacy) (52.0.0.post20210125)\n",
      "Requirement already satisfied: idna<3,>=2.5 in c:\\users\\satya\\anaconda3\\envs\\tenserflow\\lib\\site-packages (from requests<3.0.0,>=2.13.0->spacy) (2.10)\n",
      "Requirement already satisfied: certifi>=2017.4.17 in c:\\users\\satya\\anaconda3\\envs\\tenserflow\\lib\\site-packages (from requests<3.0.0,>=2.13.0->spacy) (2020.12.5)\n",
      "Requirement already satisfied: urllib3<1.27,>=1.21.1 in c:\\users\\satya\\anaconda3\\envs\\tenserflow\\lib\\site-packages (from requests<3.0.0,>=2.13.0->spacy) (1.26.4)\n",
      "Requirement already satisfied: chardet<5,>=3.0.2 in c:\\users\\satya\\anaconda3\\envs\\tenserflow\\lib\\site-packages (from requests<3.0.0,>=2.13.0->spacy) (3.0.4)\n",
      "Collecting en_core_web_sm==2.3.1\n",
      "  Downloading https://github.com/explosion/spacy-models/releases/download/en_core_web_sm-2.3.1/en_core_web_sm-2.3.1.tar.gz (12.0 MB)\n",
      "Requirement already satisfied: spacy<2.4.0,>=2.3.0 in c:\\users\\satya\\anaconda3\\envs\\tenserflow\\lib\\site-packages (from en_core_web_sm==2.3.1) (2.3.5)\n",
      "Requirement already satisfied: preshed<3.1.0,>=3.0.2 in c:\\users\\satya\\anaconda3\\envs\\tenserflow\\lib\\site-packages (from spacy<2.4.0,>=2.3.0->en_core_web_sm==2.3.1) (3.0.5)\n",
      "Requirement already satisfied: setuptools in c:\\users\\satya\\anaconda3\\envs\\tenserflow\\lib\\site-packages (from spacy<2.4.0,>=2.3.0->en_core_web_sm==2.3.1) (52.0.0.post20210125)\n",
      "Requirement already satisfied: cymem<2.1.0,>=2.0.2 in c:\\users\\satya\\anaconda3\\envs\\tenserflow\\lib\\site-packages (from spacy<2.4.0,>=2.3.0->en_core_web_sm==2.3.1) (2.0.5)\n",
      "Requirement already satisfied: plac<1.2.0,>=0.9.6 in c:\\users\\satya\\anaconda3\\envs\\tenserflow\\lib\\site-packages (from spacy<2.4.0,>=2.3.0->en_core_web_sm==2.3.1) (1.1.0)\n",
      "Requirement already satisfied: wasabi<1.1.0,>=0.4.0 in c:\\users\\satya\\anaconda3\\envs\\tenserflow\\lib\\site-packages (from spacy<2.4.0,>=2.3.0->en_core_web_sm==2.3.1) (0.8.2)\n",
      "Requirement already satisfied: blis<0.8.0,>=0.4.0 in c:\\users\\satya\\anaconda3\\envs\\tenserflow\\lib\\site-packages (from spacy<2.4.0,>=2.3.0->en_core_web_sm==2.3.1) (0.7.4)\n",
      "Requirement already satisfied: catalogue<1.1.0,>=0.0.7 in c:\\users\\satya\\anaconda3\\envs\\tenserflow\\lib\\site-packages (from spacy<2.4.0,>=2.3.0->en_core_web_sm==2.3.1) (1.0.0)\n",
      "Requirement already satisfied: srsly<1.1.0,>=1.0.2 in c:\\users\\satya\\anaconda3\\envs\\tenserflow\\lib\\site-packages (from spacy<2.4.0,>=2.3.0->en_core_web_sm==2.3.1) (1.0.5)\n",
      "Requirement already satisfied: requests<3.0.0,>=2.13.0 in c:\\users\\satya\\anaconda3\\envs\\tenserflow\\lib\\site-packages (from spacy<2.4.0,>=2.3.0->en_core_web_sm==2.3.1) (2.25.1)\n",
      "Requirement already satisfied: tqdm<5.0.0,>=4.38.0 in c:\\users\\satya\\anaconda3\\envs\\tenserflow\\lib\\site-packages (from spacy<2.4.0,>=2.3.0->en_core_web_sm==2.3.1) (4.59.0)\n",
      "Requirement already satisfied: numpy>=1.15.0 in c:\\users\\satya\\anaconda3\\envs\\tenserflow\\lib\\site-packages (from spacy<2.4.0,>=2.3.0->en_core_web_sm==2.3.1) (1.20.1)\n",
      "Requirement already satisfied: murmurhash<1.1.0,>=0.28.0 in c:\\users\\satya\\anaconda3\\envs\\tenserflow\\lib\\site-packages (from spacy<2.4.0,>=2.3.0->en_core_web_sm==2.3.1) (1.0.5)\n",
      "Requirement already satisfied: thinc<7.5.0,>=7.4.1 in c:\\users\\satya\\anaconda3\\envs\\tenserflow\\lib\\site-packages (from spacy<2.4.0,>=2.3.0->en_core_web_sm==2.3.1) (7.4.5)\n",
      "Requirement already satisfied: urllib3<1.27,>=1.21.1 in c:\\users\\satya\\anaconda3\\envs\\tenserflow\\lib\\site-packages (from requests<3.0.0,>=2.13.0->spacy<2.4.0,>=2.3.0->en_core_web_sm==2.3.1) (1.26.4)\n",
      "Requirement already satisfied: certifi>=2017.4.17 in c:\\users\\satya\\anaconda3\\envs\\tenserflow\\lib\\site-packages (from requests<3.0.0,>=2.13.0->spacy<2.4.0,>=2.3.0->en_core_web_sm==2.3.1) (2020.12.5)\n",
      "Requirement already satisfied: idna<3,>=2.5 in c:\\users\\satya\\anaconda3\\envs\\tenserflow\\lib\\site-packages (from requests<3.0.0,>=2.13.0->spacy<2.4.0,>=2.3.0->en_core_web_sm==2.3.1) (2.10)\n",
      "Requirement already satisfied: chardet<5,>=3.0.2 in c:\\users\\satya\\anaconda3\\envs\\tenserflow\\lib\\site-packages (from requests<3.0.0,>=2.13.0->spacy<2.4.0,>=2.3.0->en_core_web_sm==2.3.1) (3.0.4)\n",
      "[+] Download and installation successful\n",
      "You can now load the model via spacy.load('en_core_web_sm')\n",
      "[x] Couldn't link model to 'en'\n",
      "Creating a symlink in spacy/data failed. Make sure you have the required\n",
      "permissions and try re-running the command as admin, or use a virtualenv. You\n",
      "can still import the model as a module and call its load() method, or create the\n",
      "symlink manually.\n",
      "C:\\Users\\satya\\anaconda3\\envs\\tenserflow\\lib\\site-packages\\en_core_web_sm -->\n",
      "C:\\Users\\satya\\anaconda3\\envs\\tenserflow\\lib\\site-packages\\spacy\\data\\en"
     ]
    },
    {
     "name": "stderr",
     "output_type": "stream",
     "text": [
      "You do not have sufficient privilege to perform this operation.\n"
     ]
    },
    {
     "name": "stdout",
     "output_type": "stream",
     "text": [
      "\n",
      "[!] Download successful but linking failed\n",
      "Creating a shortcut link for 'en' didn't work (maybe you don't have admin\n",
      "permissions?), but you can still load the model via its full package name: nlp =\n",
      "spacy.load('en_core_web_sm')\n"
     ]
    }
   ],
   "source": [
    "!pip install spacy\n",
    "!python -m spacy download en"
   ]
  },
  {
   "cell_type": "code",
   "execution_count": 10,
   "metadata": {
    "id": "LUNwDF3dWU4x"
   },
   "outputs": [],
   "source": [
    "from sklearn.model_selection import train_test_split\n",
    "from sklearn.preprocessing import LabelEncoder\n",
    "from sklearn.metrics import confusion_matrix\n",
    "from sklearn.metrics import accuracy_score \n",
    "import itertools\n",
    "import re\n",
    "import spacy"
   ]
  },
  {
   "cell_type": "code",
   "execution_count": 11,
   "metadata": {
    "id": "SqCXiMiBWbk0"
   },
   "outputs": [],
   "source": [
    "trainfile = \"./data/training.1600000.processed.noemoticon.csv\"\n",
    "columns = ['polarity','id','date','query_string','twitter_user','tweet']"
   ]
  },
  {
   "cell_type": "code",
   "execution_count": 12,
   "metadata": {
    "id": "NDX31I3LW2FY"
   },
   "outputs": [
    {
     "data": {
      "text/plain": [
       "(1600000, 6)"
      ]
     },
     "execution_count": 12,
     "metadata": {},
     "output_type": "execute_result"
    }
   ],
   "source": [
    "# Import Train data set\n",
    "df_train = pd.read_csv(trainfile,\n",
    "                 header=None, \n",
    "                 names=columns, \n",
    "                 encoding='latin-1')\n",
    "df_train.shape"
   ]
  },
  {
   "cell_type": "markdown",
   "metadata": {
    "id": "LSpHlBYHXTtW"
   },
   "source": [
    "###Data Preprocessing"
   ]
  },
  {
   "cell_type": "code",
   "execution_count": 13,
   "metadata": {
    "id": "470uFvvGXPtL"
   },
   "outputs": [
    {
     "name": "stdout",
     "output_type": "stream",
     "text": [
      "<class 'pandas.core.frame.DataFrame'>\n",
      "RangeIndex: 1600000 entries, 0 to 1599999\n",
      "Data columns (total 6 columns):\n",
      " #   Column        Non-Null Count    Dtype \n",
      "---  ------        --------------    ----- \n",
      " 0   polarity      1600000 non-null  int64 \n",
      " 1   id            1600000 non-null  int64 \n",
      " 2   date          1600000 non-null  object\n",
      " 3   query_string  1600000 non-null  object\n",
      " 4   twitter_user  1600000 non-null  object\n",
      " 5   tweet         1600000 non-null  object\n",
      "dtypes: int64(2), object(4)\n",
      "memory usage: 73.2+ MB\n"
     ]
    }
   ],
   "source": [
    "df_train.info()\n"
   ]
  },
  {
   "cell_type": "code",
   "execution_count": 14,
   "metadata": {
    "id": "W5zkP3BQYlSb"
   },
   "outputs": [
    {
     "data": {
      "text/plain": [
       "0    @switchfoot http://twitpic.com/2y1zl - Awww, t...\n",
       "1    is upset that he can't update his Facebook by ...\n",
       "2    @Kenichan I dived many times for the ball. Man...\n",
       "3      my whole body feels itchy and like its on fire \n",
       "4    @nationwideclass no, it's not behaving at all....\n",
       "5                        @Kwesidei not the whole crew \n",
       "6                                          Need a hug \n",
       "7    @LOLTrish hey  long time no see! Yes.. Rains a...\n",
       "8                 @Tatiana_K nope they didn't have it \n",
       "9                            @twittera que me muera ? \n",
       "Name: tweet, dtype: object"
      ]
     },
     "execution_count": 14,
     "metadata": {},
     "output_type": "execute_result"
    }
   ],
   "source": [
    "df_train.tweet[0:10]\n"
   ]
  },
  {
   "cell_type": "code",
   "execution_count": 16,
   "metadata": {
    "id": "InQvSX5PYnPP"
   },
   "outputs": [
    {
     "name": "stderr",
     "output_type": "stream",
     "text": [
      "Matplotlib is building the font cache; this may take a moment.\n"
     ]
    },
    {
     "data": {
      "text/plain": [
       "array([[<AxesSubplot:title={'center':'polarity'}>]], dtype=object)"
      ]
     },
     "execution_count": 16,
     "metadata": {},
     "output_type": "execute_result"
    },
    {
     "data": {
      "image/png": "[encoded data removed]",
      "text/plain": [
       "<Figure size 432x288 with 1 Axes>"
      ]
     },
     "metadata": {
      "needs_background": "light"
     },
     "output_type": "display_data"
    }
   ],
   "source": [
    "df_train.hist([\"polarity\"])"
   ]
  },
  {
   "cell_type": "markdown",
   "metadata": {
    "id": "DOUD9PQPYupz"
   },
   "source": [
    "###Split Train and Test dataset"
   ]
  },
  {
   "cell_type": "code",
   "execution_count": 17,
   "metadata": {
    "id": "7bk8NULyYyno"
   },
   "outputs": [],
   "source": [
    "NUMTRAIN = 150000\n",
    "NUMTEST = 3000\n",
    "train_set = df_train[['id','polarity', 'tweet']].sample(NUMTRAIN)\n",
    "test_set = df_train[['id','polarity', 'tweet']].sample(NUMTEST)"
   ]
  },
  {
   "cell_type": "code",
   "execution_count": 18,
   "metadata": {
    "id": "71qlbxEpY2Jk"
   },
   "outputs": [],
   "source": [
    "X_train = train_set.drop(\"polarity\", axis=1) # drop labels for training set\n",
    "y_train = train_set[\"polarity\"].copy()"
   ]
  },
  {
   "cell_type": "code",
   "execution_count": 19,
   "metadata": {
    "id": "WUh7a54RY5CJ"
   },
   "outputs": [],
   "source": [
    "X_test = test_set.drop(\"polarity\", axis=1) # drop labels for test set\n",
    "y_test = test_set[\"polarity\"].copy()"
   ]
  },
  {
   "cell_type": "code",
   "execution_count": 20,
   "metadata": {
    "id": "kgymftPZY_d8"
   },
   "outputs": [
    {
     "name": "stdout",
     "output_type": "stream",
     "text": [
      "X_train: (150000, 2)<class 'pandas.core.frame.DataFrame'>\n",
      "y_train: (150000,)<class 'pandas.core.series.Series'>\n",
      "X_test: (3000, 2)<class 'pandas.core.frame.DataFrame'>\n",
      "y_test: (3000,)<class 'pandas.core.series.Series'>\n"
     ]
    }
   ],
   "source": [
    "print(\"X_train: \" + str(X_train.shape) + str(type(X_train)))\n",
    "print(\"y_train: \"+ str(y_train.shape)+ str(type(y_train)))\n",
    "print(\"X_test: \" + str(X_test.shape) + str(type(X_test)))\n",
    "print(\"y_test: \"+ str(y_test.shape)+ str(type(y_test)))"
   ]
  },
  {
   "cell_type": "code",
   "execution_count": 21,
   "metadata": {
    "id": "qDyB-CvDZDmH"
   },
   "outputs": [
    {
     "data": {
      "text/plain": [
       "313228     0\n",
       "253601     0\n",
       "1041037    4\n",
       "217422     0\n",
       "495067     0\n",
       "Name: polarity, dtype: int64"
      ]
     },
     "execution_count": 21,
     "metadata": {},
     "output_type": "execute_result"
    }
   ],
   "source": [
    "y_train.head()"
   ]
  },
  {
   "cell_type": "markdown",
   "metadata": {
    "id": "wJmIlD3JZWtX"
   },
   "source": [
    "\n",
    "###Functions : Text-preprocessing and Lemmatize (Normalize) Tweets"
   ]
  },
  {
   "cell_type": "code",
   "execution_count": 22,
   "metadata": {
    "id": "lHy1yPmPZYpD"
   },
   "outputs": [],
   "source": [
    "def text_processing(tweet):\n",
    "    # remove https links\n",
    "    clean_tweet = re.sub(r'http\\S+', '', tweet)\n",
    "    # remove punctuation marks\n",
    "    punctuation = '!\"#$%&()*+-/:;<=>?@[\\\\]^_`{|}~'\n",
    "    clean_tweet = ''.join(ch for ch in clean_tweet if ch not in set(punctuation))\n",
    "    # convert text to lowercase\n",
    "    clean_tweet = clean_tweet.lower()\n",
    "    # remove numbers\n",
    "    clean_tweet = re.sub('\\d', ' ', clean_tweet)\n",
    "    # remove whitespaces\n",
    "    clean_tweet = ' '.join(clean_tweet.split())\n",
    "    return clean_tweet"
   ]
  },
  {
   "cell_type": "code",
   "execution_count": 31,
   "metadata": {},
   "outputs": [
    {
     "name": "stdout",
     "output_type": "stream",
     "text": [
      "Collecting en_core_web_lg==2.3.1\n",
      "  Downloading https://github.com/explosion/spacy-models/releases/download/en_core_web_lg-2.3.1/en_core_web_lg-2.3.1.tar.gz (782.7 MB)\n",
      "Requirement already satisfied: spacy<2.4.0,>=2.3.0 in c:\\users\\satya\\anaconda3\\envs\\tenserflow\\lib\\site-packages (from en_core_web_lg==2.3.1) (2.3.5)\n",
      "Requirement already satisfied: srsly<1.1.0,>=1.0.2 in c:\\users\\satya\\anaconda3\\envs\\tenserflow\\lib\\site-packages (from spacy<2.4.0,>=2.3.0->en_core_web_lg==2.3.1) (1.0.5)\n",
      "Requirement already satisfied: preshed<3.1.0,>=3.0.2 in c:\\users\\satya\\anaconda3\\envs\\tenserflow\\lib\\site-packages (from spacy<2.4.0,>=2.3.0->en_core_web_lg==2.3.1) (3.0.5)\n",
      "Requirement already satisfied: catalogue<1.1.0,>=0.0.7 in c:\\users\\satya\\anaconda3\\envs\\tenserflow\\lib\\site-packages (from spacy<2.4.0,>=2.3.0->en_core_web_lg==2.3.1) (1.0.0)\n",
      "Requirement already satisfied: requests<3.0.0,>=2.13.0 in c:\\users\\satya\\anaconda3\\envs\\tenserflow\\lib\\site-packages (from spacy<2.4.0,>=2.3.0->en_core_web_lg==2.3.1) (2.25.1)\n",
      "Requirement already satisfied: numpy>=1.15.0 in c:\\users\\satya\\anaconda3\\envs\\tenserflow\\lib\\site-packages (from spacy<2.4.0,>=2.3.0->en_core_web_lg==2.3.1) (1.20.1)\n",
      "Requirement already satisfied: cymem<2.1.0,>=2.0.2 in c:\\users\\satya\\anaconda3\\envs\\tenserflow\\lib\\site-packages (from spacy<2.4.0,>=2.3.0->en_core_web_lg==2.3.1) (2.0.5)\n",
      "Requirement already satisfied: blis<0.8.0,>=0.4.0 in c:\\users\\satya\\anaconda3\\envs\\tenserflow\\lib\\site-packages (from spacy<2.4.0,>=2.3.0->en_core_web_lg==2.3.1) (0.7.4)\n",
      "Requirement already satisfied: plac<1.2.0,>=0.9.6 in c:\\users\\satya\\anaconda3\\envs\\tenserflow\\lib\\site-packages (from spacy<2.4.0,>=2.3.0->en_core_web_lg==2.3.1) (1.1.0)\n",
      "Requirement already satisfied: setuptools in c:\\users\\satya\\anaconda3\\envs\\tenserflow\\lib\\site-packages (from spacy<2.4.0,>=2.3.0->en_core_web_lg==2.3.1) (52.0.0.post20210125)\n",
      "Requirement already satisfied: murmurhash<1.1.0,>=0.28.0 in c:\\users\\satya\\anaconda3\\envs\\tenserflow\\lib\\site-packages (from spacy<2.4.0,>=2.3.0->en_core_web_lg==2.3.1) (1.0.5)\n",
      "Requirement already satisfied: tqdm<5.0.0,>=4.38.0 in c:\\users\\satya\\anaconda3\\envs\\tenserflow\\lib\\site-packages (from spacy<2.4.0,>=2.3.0->en_core_web_lg==2.3.1) (4.59.0)\n",
      "Requirement already satisfied: wasabi<1.1.0,>=0.4.0 in c:\\users\\satya\\anaconda3\\envs\\tenserflow\\lib\\site-packages (from spacy<2.4.0,>=2.3.0->en_core_web_lg==2.3.1) (0.8.2)\n",
      "Requirement already satisfied: thinc<7.5.0,>=7.4.1 in c:\\users\\satya\\anaconda3\\envs\\tenserflow\\lib\\site-packages (from spacy<2.4.0,>=2.3.0->en_core_web_lg==2.3.1) (7.4.5)\n",
      "Requirement already satisfied: certifi>=2017.4.17 in c:\\users\\satya\\anaconda3\\envs\\tenserflow\\lib\\site-packages (from requests<3.0.0,>=2.13.0->spacy<2.4.0,>=2.3.0->en_core_web_lg==2.3.1) (2020.12.5)\n",
      "Requirement already satisfied: urllib3<1.27,>=1.21.1 in c:\\users\\satya\\anaconda3\\envs\\tenserflow\\lib\\site-packages (from requests<3.0.0,>=2.13.0->spacy<2.4.0,>=2.3.0->en_core_web_lg==2.3.1) (1.26.4)\n",
      "Requirement already satisfied: idna<3,>=2.5 in c:\\users\\satya\\anaconda3\\envs\\tenserflow\\lib\\site-packages (from requests<3.0.0,>=2.13.0->spacy<2.4.0,>=2.3.0->en_core_web_lg==2.3.1) (2.10)\n",
      "Requirement already satisfied: chardet<5,>=3.0.2 in c:\\users\\satya\\anaconda3\\envs\\tenserflow\\lib\\site-packages (from requests<3.0.0,>=2.13.0->spacy<2.4.0,>=2.3.0->en_core_web_lg==2.3.1) (3.0.4)\n",
      "Building wheels for collected packages: en-core-web-lg\n",
      "  Building wheel for en-core-web-lg (setup.py): started\n",
      "  Building wheel for en-core-web-lg (setup.py): still running...\n",
      "  Building wheel for en-core-web-lg (setup.py): finished with status 'done'\n",
      "  Created wheel for en-core-web-lg: filename=en_core_web_lg-2.3.1-py3-none-any.whl size=782936124 sha256=9b5fa6bdba6dc0327a17ad61dcad00ad4efc1b14776bf2b5ac876f75541163b8\n",
      "  Stored in directory: C:\\Users\\satya\\AppData\\Local\\Temp\\pip-ephem-wheel-cache-hay_iuve\\wheels\\8b\\bb\\bb\\bdc918f4b37d930a1be9ed876e7b2c2ee518a34803d78a248e\n",
      "Successfully built en-core-web-lg\n",
      "Installing collected packages: en-core-web-lg\n",
      "Successfully installed en-core-web-lg-2.3.1\n",
      "[+] Download and installation successful\n",
      "You can now load the model via spacy.load('en_core_web_lg')\n",
      "[x] Couldn't link model to 'en'\n",
      "Creating a symlink in spacy/data failed. Make sure you have the required\n",
      "permissions and try re-running the command as admin, or use a virtualenv. You\n",
      "can still import the model as a module and call its load() method, or create the\n",
      "symlink manually.\n",
      "C:\\Users\\satya\\anaconda3\\envs\\tenserflow\\lib\\site-packages\\en_core_web_lg -->\n",
      "C:\\Users\\satya\\anaconda3\\envs\\tenserflow\\lib\\site-packages\\spacy\\data\\en\n"
     ]
    },
    {
     "name": "stderr",
     "output_type": "stream",
     "text": [
      "You do not have sufficient privilege to perform this operation.\n",
      "Traceback (most recent call last):\n",
      "  File \"C:\\Users\\satya\\anaconda3\\envs\\tenserflow\\lib\\runpy.py\", line 194, in _run_module_as_main\n",
      "    return _run_code(code, main_globals, None,\n",
      "  File \"C:\\Users\\satya\\anaconda3\\envs\\tenserflow\\lib\\runpy.py\", line 87, in _run_code\n",
      "    exec(code, run_globals)\n",
      "  File \"C:\\Users\\satya\\anaconda3\\envs\\tenserflow\\lib\\site-packages\\spacy\\__main__.py\", line 33, in <module>\n",
      "    plac.call(commands[command], sys.argv[1:])\n",
      "  File \"C:\\Users\\satya\\anaconda3\\envs\\tenserflow\\lib\\site-packages\\plac_core.py\", line 348, in call\n",
      "    cmd, result = parser.consume(arglist)\n",
      "  File \"C:\\Users\\satya\\anaconda3\\envs\\tenserflow\\lib\\site-packages\\plac_core.py\", line 217, in consume\n",
      "    return cmd, self.func(*(args + varargs + extraopts), **kwargs)\n",
      "  File \"C:\\Users\\satya\\anaconda3\\envs\\tenserflow\\lib\\site-packages\\spacy\\cli\\link.py\", line 64, in link\n",
      "    symlink_to(link_path, model_path)\n",
      "  File \"C:\\Users\\satya\\anaconda3\\envs\\tenserflow\\lib\\site-packages\\spacy\\compat.py\", line 98, in symlink_to\n",
      "    subprocess.check_call(\n",
      "  File \"C:\\Users\\satya\\anaconda3\\envs\\tenserflow\\lib\\subprocess.py\", line 364, in check_call\n",
      "    raise CalledProcessError(retcode, cmd)\n",
      "subprocess.CalledProcessError: Command '['mklink', '/d', 'C:\\\\Users\\\\satya\\\\anaconda3\\\\envs\\\\tenserflow\\\\lib\\\\site-packages\\\\spacy\\\\data\\\\en', 'C:\\\\Users\\\\satya\\\\anaconda3\\\\envs\\\\tenserflow\\\\lib\\\\site-packages\\\\en_core_web_lg']' returned non-zero exit status 1.\n"
     ]
    }
   ],
   "source": [
    "!python -m spacy download en"
   ]
  },
  {
   "cell_type": "code",
   "execution_count": 39,
   "metadata": {
    "id": "G5tdGWBGZcqb"
   },
   "outputs": [],
   "source": [
    "# import the english language model from spacy'\n",
    "#nlp = spacy.load('en_core_web_sm')\n",
    "nlp = spacy.load('en', disable=['parser', 'ner'])\n",
    "#nlp = spacy.load('en')\n",
    "\n",
    "# function to lemmatize text\n",
    "def lemmatization(tweets):\n",
    "    lemma_tweet = []\n",
    "    for i in tweets:\n",
    "        t = [token.lemma_ for token in nlp(i)]\n",
    "        lemma_tweet.append(' '.join(t))\n",
    "    return lemma_tweet"
   ]
  },
  {
   "cell_type": "code",
   "execution_count": 40,
   "metadata": {
    "id": "4W9RmQvQZgjY"
   },
   "outputs": [],
   "source": [
    "X_train['clean_tweet'] = X_train['tweet'].apply(lambda x: text_processing(x))\n",
    "X_test['clean_tweet'] = X_test['tweet'].apply(lambda x: text_processing(x))"
   ]
  },
  {
   "cell_type": "code",
   "execution_count": 41,
   "metadata": {
    "id": "czj9RTBvZhPl"
   },
   "outputs": [
    {
     "data": {
      "text/html": [
       "<div>\n",
       "<style scoped>\n",
       "    .dataframe tbody tr th:only-of-type {\n",
       "        vertical-align: middle;\n",
       "    }\n",
       "\n",
       "    .dataframe tbody tr th {\n",
       "        vertical-align: top;\n",
       "    }\n",
       "\n",
       "    .dataframe thead th {\n",
       "        text-align: right;\n",
       "    }\n",
       "</style>\n",
       "<table border=\"1\" class=\"dataframe\">\n",
       "  <thead>\n",
       "    <tr style=\"text-align: right;\">\n",
       "      <th></th>\n",
       "      <th>id</th>\n",
       "      <th>tweet</th>\n",
       "      <th>clean_tweet</th>\n",
       "    </tr>\n",
       "  </thead>\n",
       "  <tbody>\n",
       "    <tr>\n",
       "      <th>313228</th>\n",
       "      <td>2001705696</td>\n",
       "      <td>@yaeljk get to a show girl! Do whatcha gotta d...</td>\n",
       "      <td>yaeljk get to a show girl do whatcha gotta do ...</td>\n",
       "    </tr>\n",
       "    <tr>\n",
       "      <th>253601</th>\n",
       "      <td>1984029518</td>\n",
       "      <td>Ex boyfriends suck  -pete! the alien-</td>\n",
       "      <td>ex boyfriends suck pete the alien</td>\n",
       "    </tr>\n",
       "    <tr>\n",
       "      <th>1041037</th>\n",
       "      <td>1957027349</td>\n",
       "      <td>.@SpacieStaycie which one did you like best?</td>\n",
       "      <td>.spaciestaycie which one did you like best</td>\n",
       "    </tr>\n",
       "    <tr>\n",
       "      <th>217422</th>\n",
       "      <td>1975936563</td>\n",
       "      <td>damn my back is hella hurtting at work</td>\n",
       "      <td>damn my back is hella hurtting at work</td>\n",
       "    </tr>\n",
       "    <tr>\n",
       "      <th>495067</th>\n",
       "      <td>2185120448</td>\n",
       "      <td>@tristanwilds unfortunately my days already over</td>\n",
       "      <td>tristanwilds unfortunately my days already over</td>\n",
       "    </tr>\n",
       "  </tbody>\n",
       "</table>\n",
       "</div>"
      ],
      "text/plain": [
       "                 id                                              tweet  \\\n",
       "313228   2001705696  @yaeljk get to a show girl! Do whatcha gotta d...   \n",
       "253601   1984029518              Ex boyfriends suck  -pete! the alien-   \n",
       "1041037  1957027349      .@SpacieStaycie which one did you like best?    \n",
       "217422   1975936563            damn my back is hella hurtting at work    \n",
       "495067   2185120448  @tristanwilds unfortunately my days already over    \n",
       "\n",
       "                                               clean_tweet  \n",
       "313228   yaeljk get to a show girl do whatcha gotta do ...  \n",
       "253601                   ex boyfriends suck pete the alien  \n",
       "1041037         .spaciestaycie which one did you like best  \n",
       "217422              damn my back is hella hurtting at work  \n",
       "495067     tristanwilds unfortunately my days already over  "
      ]
     },
     "execution_count": 41,
     "metadata": {},
     "output_type": "execute_result"
    }
   ],
   "source": [
    "X_train.head()"
   ]
  },
  {
   "cell_type": "code",
   "execution_count": 42,
   "metadata": {
    "id": "vwZNF-lxZi74"
   },
   "outputs": [
    {
     "name": "stdout",
     "output_type": "stream",
     "text": [
      "Wall time: 12min 9s\n"
     ]
    }
   ],
   "source": [
    "%%time\n",
    "X_train[\"clean_tweet\"] = lemmatization(X_train[\"clean_tweet\"])\n",
    "X_test['clean_tweet'] = lemmatization(X_test['clean_tweet'])"
   ]
  },
  {
   "cell_type": "code",
   "execution_count": 43,
   "metadata": {
    "id": "IuFS-kGbZlux"
   },
   "outputs": [
    {
     "data": {
      "text/html": [
       "<div>\n",
       "<style scoped>\n",
       "    .dataframe tbody tr th:only-of-type {\n",
       "        vertical-align: middle;\n",
       "    }\n",
       "\n",
       "    .dataframe tbody tr th {\n",
       "        vertical-align: top;\n",
       "    }\n",
       "\n",
       "    .dataframe thead th {\n",
       "        text-align: right;\n",
       "    }\n",
       "</style>\n",
       "<table border=\"1\" class=\"dataframe\">\n",
       "  <thead>\n",
       "    <tr style=\"text-align: right;\">\n",
       "      <th></th>\n",
       "      <th>id</th>\n",
       "      <th>tweet</th>\n",
       "      <th>clean_tweet</th>\n",
       "    </tr>\n",
       "  </thead>\n",
       "  <tbody>\n",
       "    <tr>\n",
       "      <th>313228</th>\n",
       "      <td>2001705696</td>\n",
       "      <td>@yaeljk get to a show girl! Do whatcha gotta d...</td>\n",
       "      <td>yaeljk get to a show girl do whatcha got to do...</td>\n",
       "    </tr>\n",
       "    <tr>\n",
       "      <th>253601</th>\n",
       "      <td>1984029518</td>\n",
       "      <td>Ex boyfriends suck  -pete! the alien-</td>\n",
       "      <td>ex boyfriend suck pete the alien</td>\n",
       "    </tr>\n",
       "    <tr>\n",
       "      <th>1041037</th>\n",
       "      <td>1957027349</td>\n",
       "      <td>.@SpacieStaycie which one did you like best?</td>\n",
       "      <td>.spaciestaycie which one do -PRON- like good</td>\n",
       "    </tr>\n",
       "    <tr>\n",
       "      <th>217422</th>\n",
       "      <td>1975936563</td>\n",
       "      <td>damn my back is hella hurtting at work</td>\n",
       "      <td>damn -PRON- back be hella hurtte at work</td>\n",
       "    </tr>\n",
       "    <tr>\n",
       "      <th>495067</th>\n",
       "      <td>2185120448</td>\n",
       "      <td>@tristanwilds unfortunately my days already over</td>\n",
       "      <td>tristanwild unfortunately -PRON- day already over</td>\n",
       "    </tr>\n",
       "  </tbody>\n",
       "</table>\n",
       "</div>"
      ],
      "text/plain": [
       "                 id                                              tweet  \\\n",
       "313228   2001705696  @yaeljk get to a show girl! Do whatcha gotta d...   \n",
       "253601   1984029518              Ex boyfriends suck  -pete! the alien-   \n",
       "1041037  1957027349      .@SpacieStaycie which one did you like best?    \n",
       "217422   1975936563            damn my back is hella hurtting at work    \n",
       "495067   2185120448  @tristanwilds unfortunately my days already over    \n",
       "\n",
       "                                               clean_tweet  \n",
       "313228   yaeljk get to a show girl do whatcha got to do...  \n",
       "253601                    ex boyfriend suck pete the alien  \n",
       "1041037       .spaciestaycie which one do -PRON- like good  \n",
       "217422            damn -PRON- back be hella hurtte at work  \n",
       "495067   tristanwild unfortunately -PRON- day already over  "
      ]
     },
     "execution_count": 43,
     "metadata": {},
     "output_type": "execute_result"
    }
   ],
   "source": [
    "X_train.head()"
   ]
  },
  {
   "cell_type": "code",
   "execution_count": 44,
   "metadata": {
    "id": "ATDfH4HaZnp6"
   },
   "outputs": [
    {
     "data": {
      "text/html": [
       "<div>\n",
       "<style scoped>\n",
       "    .dataframe tbody tr th:only-of-type {\n",
       "        vertical-align: middle;\n",
       "    }\n",
       "\n",
       "    .dataframe tbody tr th {\n",
       "        vertical-align: top;\n",
       "    }\n",
       "\n",
       "    .dataframe thead th {\n",
       "        text-align: right;\n",
       "    }\n",
       "</style>\n",
       "<table border=\"1\" class=\"dataframe\">\n",
       "  <thead>\n",
       "    <tr style=\"text-align: right;\">\n",
       "      <th></th>\n",
       "      <th>id</th>\n",
       "      <th>tweet</th>\n",
       "      <th>clean_tweet</th>\n",
       "    </tr>\n",
       "  </thead>\n",
       "  <tbody>\n",
       "    <tr>\n",
       "      <th>1496875</th>\n",
       "      <td>2070227533</td>\n",
       "      <td>Working at the Devon Theater on the production...</td>\n",
       "      <td>work at the devon theater on the production of...</td>\n",
       "    </tr>\n",
       "    <tr>\n",
       "      <th>732398</th>\n",
       "      <td>2264061329</td>\n",
       "      <td>@thetoniomethod Bro, the link doesn't work....</td>\n",
       "      <td>thetoniomethod bro , the link do not work ....</td>\n",
       "    </tr>\n",
       "    <tr>\n",
       "      <th>601669</th>\n",
       "      <td>2221199219</td>\n",
       "      <td>Just heard a bad news that there's a 99% chanc...</td>\n",
       "      <td>just hear a bad news that there be a chance th...</td>\n",
       "    </tr>\n",
       "    <tr>\n",
       "      <th>896297</th>\n",
       "      <td>1692990666</td>\n",
       "      <td>@jason_mraz JASON,  FREAKIN AMAZING PERFORMANC...</td>\n",
       "      <td>jasonmraz jason , freakin amazing performance ...</td>\n",
       "    </tr>\n",
       "    <tr>\n",
       "      <th>652957</th>\n",
       "      <td>2238425040</td>\n",
       "      <td>.......pride overshadowed by extreme fatigue.</td>\n",
       "      <td>....... pride overshadow by extreme fatigue .</td>\n",
       "    </tr>\n",
       "  </tbody>\n",
       "</table>\n",
       "</div>"
      ],
      "text/plain": [
       "                 id                                              tweet  \\\n",
       "1496875  2070227533  Working at the Devon Theater on the production...   \n",
       "732398   2264061329    @thetoniomethod Bro, the link doesn't work....    \n",
       "601669   2221199219  Just heard a bad news that there's a 99% chanc...   \n",
       "896297   1692990666  @jason_mraz JASON,  FREAKIN AMAZING PERFORMANC...   \n",
       "652957   2238425040     .......pride overshadowed by extreme fatigue.    \n",
       "\n",
       "                                               clean_tweet  \n",
       "1496875  work at the devon theater on the production of...  \n",
       "732398      thetoniomethod bro , the link do not work ....  \n",
       "601669   just hear a bad news that there be a chance th...  \n",
       "896297   jasonmraz jason , freakin amazing performance ...  \n",
       "652957       ....... pride overshadow by extreme fatigue .  "
      ]
     },
     "execution_count": 44,
     "metadata": {},
     "output_type": "execute_result"
    }
   ],
   "source": [
    "X_test.head()"
   ]
  },
  {
   "cell_type": "code",
   "execution_count": 47,
   "metadata": {
    "id": "APz3f1YMZwJF"
   },
   "outputs": [],
   "source": [
    "PATH=\"./data/\"\n",
    "X_train_lemma_file =  PATH + \"X_train_lemma150k.csv\"\n",
    "X_test_lemma_file =   PATH + \"X_test_lemma3k.csv\"\n",
    "y_train_lemma_file =  PATH + \"y_train_lemma150k.csv\"\n",
    "y_test_lemma_file =   PATH + \"y_test_lemma3k.csv\""
   ]
  },
  {
   "cell_type": "code",
   "execution_count": 48,
   "metadata": {
    "id": "-EhN9MeoZ0k5"
   },
   "outputs": [],
   "source": [
    "X_train.to_csv(X_train_lemma_file, index=False)\n",
    "X_test.to_csv(X_test_lemma_file, index=False)\n",
    "y_train.to_csv(y_train_lemma_file, index=False, header=False)\n",
    "y_test.to_csv(y_test_lemma_file, index=False, header=False)"
   ]
  },
  {
   "cell_type": "code",
   "execution_count": 49,
   "metadata": {
    "id": "7VoknFlnZ3EI"
   },
   "outputs": [],
   "source": [
    "X_train = pd.read_csv(X_train_lemma_file)\n",
    "X_test = pd.read_csv(X_test_lemma_file)\n",
    "y_train = pd.read_csv(y_train_lemma_file, squeeze=True, header=None)\n",
    "y_test = pd.read_csv(y_test_lemma_file, squeeze=True, header=None)"
   ]
  },
  {
   "cell_type": "code",
   "execution_count": 50,
   "metadata": {
    "id": "Jpe9v3G2Z5OV"
   },
   "outputs": [
    {
     "data": {
      "text/html": [
       "<div>\n",
       "<style scoped>\n",
       "    .dataframe tbody tr th:only-of-type {\n",
       "        vertical-align: middle;\n",
       "    }\n",
       "\n",
       "    .dataframe tbody tr th {\n",
       "        vertical-align: top;\n",
       "    }\n",
       "\n",
       "    .dataframe thead th {\n",
       "        text-align: right;\n",
       "    }\n",
       "</style>\n",
       "<table border=\"1\" class=\"dataframe\">\n",
       "  <thead>\n",
       "    <tr style=\"text-align: right;\">\n",
       "      <th></th>\n",
       "      <th>id</th>\n",
       "      <th>tweet</th>\n",
       "      <th>clean_tweet</th>\n",
       "    </tr>\n",
       "  </thead>\n",
       "  <tbody>\n",
       "    <tr>\n",
       "      <th>0</th>\n",
       "      <td>2001705696</td>\n",
       "      <td>@yaeljk get to a show girl! Do whatcha gotta d...</td>\n",
       "      <td>yaeljk get to a show girl do whatcha got to do...</td>\n",
       "    </tr>\n",
       "    <tr>\n",
       "      <th>1</th>\n",
       "      <td>1984029518</td>\n",
       "      <td>Ex boyfriends suck  -pete! the alien-</td>\n",
       "      <td>ex boyfriend suck pete the alien</td>\n",
       "    </tr>\n",
       "    <tr>\n",
       "      <th>2</th>\n",
       "      <td>1957027349</td>\n",
       "      <td>.@SpacieStaycie which one did you like best?</td>\n",
       "      <td>.spaciestaycie which one do -PRON- like good</td>\n",
       "    </tr>\n",
       "    <tr>\n",
       "      <th>3</th>\n",
       "      <td>1975936563</td>\n",
       "      <td>damn my back is hella hurtting at work</td>\n",
       "      <td>damn -PRON- back be hella hurtte at work</td>\n",
       "    </tr>\n",
       "    <tr>\n",
       "      <th>4</th>\n",
       "      <td>2185120448</td>\n",
       "      <td>@tristanwilds unfortunately my days already over</td>\n",
       "      <td>tristanwild unfortunately -PRON- day already over</td>\n",
       "    </tr>\n",
       "  </tbody>\n",
       "</table>\n",
       "</div>"
      ],
      "text/plain": [
       "           id                                              tweet  \\\n",
       "0  2001705696  @yaeljk get to a show girl! Do whatcha gotta d...   \n",
       "1  1984029518              Ex boyfriends suck  -pete! the alien-   \n",
       "2  1957027349      .@SpacieStaycie which one did you like best?    \n",
       "3  1975936563            damn my back is hella hurtting at work    \n",
       "4  2185120448  @tristanwilds unfortunately my days already over    \n",
       "\n",
       "                                         clean_tweet  \n",
       "0  yaeljk get to a show girl do whatcha got to do...  \n",
       "1                   ex boyfriend suck pete the alien  \n",
       "2       .spaciestaycie which one do -PRON- like good  \n",
       "3           damn -PRON- back be hella hurtte at work  \n",
       "4  tristanwild unfortunately -PRON- day already over  "
      ]
     },
     "execution_count": 50,
     "metadata": {},
     "output_type": "execute_result"
    }
   ],
   "source": [
    "X_train.head()"
   ]
  },
  {
   "cell_type": "code",
   "execution_count": 51,
   "metadata": {
    "id": "Lm54OhkOZ65O"
   },
   "outputs": [
    {
     "data": {
      "text/html": [
       "<div>\n",
       "<style scoped>\n",
       "    .dataframe tbody tr th:only-of-type {\n",
       "        vertical-align: middle;\n",
       "    }\n",
       "\n",
       "    .dataframe tbody tr th {\n",
       "        vertical-align: top;\n",
       "    }\n",
       "\n",
       "    .dataframe thead th {\n",
       "        text-align: right;\n",
       "    }\n",
       "</style>\n",
       "<table border=\"1\" class=\"dataframe\">\n",
       "  <thead>\n",
       "    <tr style=\"text-align: right;\">\n",
       "      <th></th>\n",
       "      <th>id</th>\n",
       "      <th>tweet</th>\n",
       "      <th>clean_tweet</th>\n",
       "    </tr>\n",
       "  </thead>\n",
       "  <tbody>\n",
       "    <tr>\n",
       "      <th>0</th>\n",
       "      <td>2070227533</td>\n",
       "      <td>Working at the Devon Theater on the production...</td>\n",
       "      <td>work at the devon theater on the production of...</td>\n",
       "    </tr>\n",
       "    <tr>\n",
       "      <th>1</th>\n",
       "      <td>2264061329</td>\n",
       "      <td>@thetoniomethod Bro, the link doesn't work....</td>\n",
       "      <td>thetoniomethod bro , the link do not work ....</td>\n",
       "    </tr>\n",
       "    <tr>\n",
       "      <th>2</th>\n",
       "      <td>2221199219</td>\n",
       "      <td>Just heard a bad news that there's a 99% chanc...</td>\n",
       "      <td>just hear a bad news that there be a chance th...</td>\n",
       "    </tr>\n",
       "    <tr>\n",
       "      <th>3</th>\n",
       "      <td>1692990666</td>\n",
       "      <td>@jason_mraz JASON,  FREAKIN AMAZING PERFORMANC...</td>\n",
       "      <td>jasonmraz jason , freakin amazing performance ...</td>\n",
       "    </tr>\n",
       "    <tr>\n",
       "      <th>4</th>\n",
       "      <td>2238425040</td>\n",
       "      <td>.......pride overshadowed by extreme fatigue.</td>\n",
       "      <td>....... pride overshadow by extreme fatigue .</td>\n",
       "    </tr>\n",
       "  </tbody>\n",
       "</table>\n",
       "</div>"
      ],
      "text/plain": [
       "           id                                              tweet  \\\n",
       "0  2070227533  Working at the Devon Theater on the production...   \n",
       "1  2264061329    @thetoniomethod Bro, the link doesn't work....    \n",
       "2  2221199219  Just heard a bad news that there's a 99% chanc...   \n",
       "3  1692990666  @jason_mraz JASON,  FREAKIN AMAZING PERFORMANC...   \n",
       "4  2238425040     .......pride overshadowed by extreme fatigue.    \n",
       "\n",
       "                                         clean_tweet  \n",
       "0  work at the devon theater on the production of...  \n",
       "1     thetoniomethod bro , the link do not work ....  \n",
       "2  just hear a bad news that there be a chance th...  \n",
       "3  jasonmraz jason , freakin amazing performance ...  \n",
       "4      ....... pride overshadow by extreme fatigue .  "
      ]
     },
     "execution_count": 51,
     "metadata": {},
     "output_type": "execute_result"
    }
   ],
   "source": [
    "X_test.head()"
   ]
  },
  {
   "cell_type": "code",
   "execution_count": 52,
   "metadata": {
    "id": "kRONcR4WZ8LT"
   },
   "outputs": [
    {
     "data": {
      "text/plain": [
       "<bound method NDFrame.head of 0         0\n",
       "1         0\n",
       "2         4\n",
       "3         0\n",
       "4         0\n",
       "         ..\n",
       "149995    4\n",
       "149996    4\n",
       "149997    0\n",
       "149998    0\n",
       "149999    4\n",
       "Name: 0, Length: 150000, dtype: int64>"
      ]
     },
     "execution_count": 52,
     "metadata": {},
     "output_type": "execute_result"
    }
   ],
   "source": [
    "y_train.head"
   ]
  },
  {
   "cell_type": "code",
   "execution_count": 53,
   "metadata": {
    "id": "b2I6W_GHZ_Jf"
   },
   "outputs": [
    {
     "data": {
      "text/plain": [
       "<bound method NDFrame.head of 0       4\n",
       "1       0\n",
       "2       0\n",
       "3       4\n",
       "4       0\n",
       "       ..\n",
       "2995    4\n",
       "2996    0\n",
       "2997    4\n",
       "2998    4\n",
       "2999    4\n",
       "Name: 0, Length: 3000, dtype: int64>"
      ]
     },
     "execution_count": 53,
     "metadata": {},
     "output_type": "execute_result"
    }
   ],
   "source": [
    "y_test.head"
   ]
  },
  {
   "cell_type": "code",
   "execution_count": 54,
   "metadata": {
    "id": "W9w4WTT9aA3h"
   },
   "outputs": [
    {
     "name": "stdout",
     "output_type": "stream",
     "text": [
      "X_train: (150000, 3)<class 'pandas.core.frame.DataFrame'>\n",
      "y_train: (150000,)<class 'pandas.core.series.Series'>\n",
      "X_test: (3000, 3)<class 'pandas.core.frame.DataFrame'>\n",
      "y_test: (3000,)<class 'pandas.core.series.Series'>\n"
     ]
    }
   ],
   "source": [
    "print(\"X_train: \" + str(X_train.shape) + str(type(X_train)))\n",
    "print(\"y_train: \"+ str(y_train.shape)+ str(type(y_train)))\n",
    "print(\"X_test: \" + str(X_test.shape) + str(type(X_test)))\n",
    "print(\"y_test: \"+ str(y_test.shape)+ str(type(y_test)))"
   ]
  },
  {
   "cell_type": "code",
   "execution_count": 55,
   "metadata": {
    "id": "SoMZMJnXaBkb"
   },
   "outputs": [],
   "source": [
    "X_train = X_train[\"clean_tweet\"].values\n",
    "X_test = X_test[\"clean_tweet\"].values"
   ]
  },
  {
   "cell_type": "code",
   "execution_count": 56,
   "metadata": {
    "id": "6iaRv6PzaERc"
   },
   "outputs": [
    {
     "name": "stdout",
     "output_type": "stream",
     "text": [
      "['yaeljk get to a show girl do whatcha got to do what if this be -PRON- last tour omg i do not wanna think about -PRON-'\n",
      " 'ex boyfriend suck pete the alien'\n",
      " '.spaciestaycie which one do -PRON- like good'\n",
      " 'damn -PRON- back be hella hurtte at work'\n",
      " 'tristanwild unfortunately -PRON- day already over']\n"
     ]
    }
   ],
   "source": [
    "print(X_train[0:5])"
   ]
  },
  {
   "cell_type": "markdown",
   "metadata": {
    "id": "wpEXCHyDaIUJ"
   },
   "source": [
    "###Label Encoding"
   ]
  },
  {
   "cell_type": "code",
   "execution_count": 57,
   "metadata": {
    "id": "xN3-Lo85aGQZ"
   },
   "outputs": [
    {
     "data": {
      "text/plain": [
       "array([0, 0, 1, 0, 0], dtype=int64)"
      ]
     },
     "execution_count": 57,
     "metadata": {},
     "output_type": "execute_result"
    }
   ],
   "source": [
    "label_encoder = LabelEncoder()\n",
    "y_train = label_encoder.fit_transform(y_train)\n",
    "y_test = label_encoder.fit_transform(y_test)                     \n",
    "y_train[:5]"
   ]
  },
  {
   "cell_type": "code",
   "execution_count": 58,
   "metadata": {
    "id": "HirR4_k0aMC0"
   },
   "outputs": [],
   "source": [
    "y_train = keras.utils.to_categorical(y_train)\n",
    "y_test = keras.utils.to_categorical(y_test)"
   ]
  },
  {
   "cell_type": "code",
   "execution_count": 59,
   "metadata": {
    "id": "mmUgkbXuaNiH"
   },
   "outputs": [
    {
     "data": {
      "text/plain": [
       "array([[1., 0.],\n",
       "       [1., 0.],\n",
       "       [0., 1.],\n",
       "       [1., 0.],\n",
       "       [1., 0.]], dtype=float32)"
      ]
     },
     "execution_count": 59,
     "metadata": {},
     "output_type": "execute_result"
    }
   ],
   "source": [
    "y_train[0:5]"
   ]
  },
  {
   "cell_type": "code",
   "execution_count": 60,
   "metadata": {
    "id": "vB-clB2kaOxs"
   },
   "outputs": [
    {
     "data": {
      "text/plain": [
       "(150000,)"
      ]
     },
     "execution_count": 60,
     "metadata": {},
     "output_type": "execute_result"
    }
   ],
   "source": [
    "X_train.shape # Should be (nb_of_records, )"
   ]
  },
  {
   "cell_type": "code",
   "execution_count": 61,
   "metadata": {
    "id": "rLeisA-haQYw"
   },
   "outputs": [
    {
     "data": {
      "text/plain": [
       "(3000, 2)"
      ]
     },
     "execution_count": 61,
     "metadata": {},
     "output_type": "execute_result"
    }
   ],
   "source": [
    "y_test.shape # Sould be (nb_of_records, number_of_categories)"
   ]
  },
  {
   "cell_type": "markdown",
   "metadata": {
    "id": "k9IcdJN5aUTp"
   },
   "source": [
    "###Create Model using tf.hub: nnlm-en-dim128\n"
   ]
  },
  {
   "cell_type": "code",
   "execution_count": 62,
   "metadata": {
    "id": "idqGTL5saXa2"
   },
   "outputs": [
    {
     "name": "stdout",
     "output_type": "stream",
     "text": [
      "https://tfhub.dev/google/nnlm-en-dim128/2\n"
     ]
    }
   ],
   "source": [
    "MODEL = \"nnlm-en-dim128\"\n",
    "VERSION = 2\n",
    "URL = \"https://tfhub.dev/google/\"+MODEL+\"/\"+str(VERSION)\n",
    "print (URL)"
   ]
  },
  {
   "cell_type": "code",
   "execution_count": 63,
   "metadata": {
    "id": "8TVTBmb2rvNL"
   },
   "outputs": [
    {
     "name": "stdout",
     "output_type": "stream",
     "text": [
      "WARNING:tensorflow:AutoGraph could not transform <bound method KerasLayer.call of <tensorflow_hub.keras_layer.KerasLayer object at 0x000002B20D29D4F0>> and will run it as-is.\n",
      "Please report this to the TensorFlow team. When filing the bug, set the verbosity to 10 (on Linux, `export AUTOGRAPH_VERBOSITY=10`) and attach the full output.\n",
      "Cause: module 'gast' has no attribute 'Index'\n",
      "To silence this warning, decorate the function with @tf.autograph.experimental.do_not_convert\n"
     ]
    },
    {
     "name": "stderr",
     "output_type": "stream",
     "text": [
      "WARNING:tensorflow:AutoGraph could not transform <bound method KerasLayer.call of <tensorflow_hub.keras_layer.KerasLayer object at 0x000002B20D29D4F0>> and will run it as-is.\n",
      "Please report this to the TensorFlow team. When filing the bug, set the verbosity to 10 (on Linux, `export AUTOGRAPH_VERBOSITY=10`) and attach the full output.\n",
      "Cause: module 'gast' has no attribute 'Index'\n",
      "To silence this warning, decorate the function with @tf.autograph.experimental.do_not_convert\n"
     ]
    },
    {
     "name": "stdout",
     "output_type": "stream",
     "text": [
      "WARNING: AutoGraph could not transform <bound method KerasLayer.call of <tensorflow_hub.keras_layer.KerasLayer object at 0x000002B20D29D4F0>> and will run it as-is.\n",
      "Please report this to the TensorFlow team. When filing the bug, set the verbosity to 10 (on Linux, `export AUTOGRAPH_VERBOSITY=10`) and attach the full output.\n",
      "Cause: module 'gast' has no attribute 'Index'\n",
      "To silence this warning, decorate the function with @tf.autograph.experimental.do_not_convert\n",
      "Model: \"sequential\"\n",
      "_________________________________________________________________\n",
      "Layer (type)                 Output Shape              Param #   \n",
      "=================================================================\n",
      "keras_layer (KerasLayer)     (None, 128)               124642688 \n",
      "_________________________________________________________________\n",
      "dense (Dense)                (None, 128)               16512     \n",
      "_________________________________________________________________\n",
      "dropout (Dropout)            (None, 128)               0         \n",
      "_________________________________________________________________\n",
      "dense_1 (Dense)              (None, 2)                 258       \n",
      "=================================================================\n",
      "Total params: 124,659,458\n",
      "Trainable params: 16,770\n",
      "Non-trainable params: 124,642,688\n",
      "_________________________________________________________________\n"
     ]
    }
   ],
   "source": [
    "hub_layer1 = hub.KerasLayer(URL, output_shape=[128], \n",
    "                           input_shape=[], \n",
    "                           dtype=tf.string\n",
    "                          )\n",
    "model = keras.Sequential()\n",
    "model.add(hub_layer1)\n",
    "model.add(keras.layers.Dense(128, activation='relu'))\n",
    "model.add(keras.layers.Dropout(0.5))\n",
    "model.add(keras.layers.Dense(2, activation='softmax'))\n",
    "\n",
    "model.summary()"
   ]
  },
  {
   "cell_type": "code",
   "execution_count": 64,
   "metadata": {
    "id": "ArF-v4DirxVi"
   },
   "outputs": [],
   "source": [
    "model.compile(loss='categorical_crossentropy', optimizer='adam', metrics=['accuracy'])"
   ]
  },
  {
   "cell_type": "code",
   "execution_count": 91,
   "metadata": {
    "id": "3cGCOqKTrzZZ"
   },
   "outputs": [
    {
     "name": "stdout",
     "output_type": "stream",
     "text": [
      "('Failed to import pydot. You must `pip install pydot` and install graphviz (https://graphviz.gitlab.io/download/), ', 'for `pydotprint` to work.')\n"
     ]
    }
   ],
   "source": [
    "keras.utils.plot_model(model, \n",
    "                       #to_file='model.png',\n",
    "                      show_shapes=True, show_layer_names=True, rankdir='LR', expand_nested=False, dpi=128)"
   ]
  },
  {
   "cell_type": "markdown",
   "metadata": {
    "id": "t-3ILha_r7DX"
   },
   "source": [
    "###Execute Model"
   ]
  },
  {
   "cell_type": "code",
   "execution_count": 71,
   "metadata": {
    "id": "ZHzwiXVcr8da"
   },
   "outputs": [
    {
     "name": "stdout",
     "output_type": "stream",
     "text": [
      "Epoch 1/40\n",
      "938/938 [==============================] - 5s 6ms/step - loss: 0.5629 - accuracy: 0.7111 - val_loss: 0.5368 - val_accuracy: 0.7334\n",
      "Epoch 2/40\n",
      "938/938 [==============================] - 6s 7ms/step - loss: 0.5374 - accuracy: 0.7302 - val_loss: 0.5260 - val_accuracy: 0.7402\n",
      "Epoch 3/40\n",
      "938/938 [==============================] - 4s 5ms/step - loss: 0.5308 - accuracy: 0.7339 - val_loss: 0.5219 - val_accuracy: 0.7419\n",
      "Epoch 4/40\n",
      "938/938 [==============================] - 4s 5ms/step - loss: 0.5263 - accuracy: 0.7374 - val_loss: 0.5179 - val_accuracy: 0.7465\n",
      "Epoch 5/40\n",
      "938/938 [==============================] - 6s 6ms/step - loss: 0.5225 - accuracy: 0.7416 - val_loss: 0.5165 - val_accuracy: 0.7463\n",
      "Epoch 6/40\n",
      "938/938 [==============================] - 6s 7ms/step - loss: 0.5198 - accuracy: 0.7423 - val_loss: 0.5138 - val_accuracy: 0.7480\n",
      "Epoch 7/40\n",
      "938/938 [==============================] - 5s 5ms/step - loss: 0.5167 - accuracy: 0.7452 - val_loss: 0.5120 - val_accuracy: 0.7507\n",
      "Epoch 8/40\n",
      "938/938 [==============================] - 5s 5ms/step - loss: 0.5164 - accuracy: 0.7465 - val_loss: 0.5108 - val_accuracy: 0.7501\n",
      "Epoch 9/40\n",
      "938/938 [==============================] - 6s 7ms/step - loss: 0.5141 - accuracy: 0.7471 - val_loss: 0.5100 - val_accuracy: 0.7505\n",
      "Epoch 10/40\n",
      "938/938 [==============================] - 4s 5ms/step - loss: 0.5117 - accuracy: 0.7489 - val_loss: 0.5098 - val_accuracy: 0.7515\n",
      "Epoch 11/40\n",
      "938/938 [==============================] - 5s 6ms/step - loss: 0.5110 - accuracy: 0.7503 - val_loss: 0.5083 - val_accuracy: 0.7518\n",
      "Epoch 12/40\n",
      "938/938 [==============================] - 5s 5ms/step - loss: 0.5093 - accuracy: 0.7508 - val_loss: 0.5084 - val_accuracy: 0.7532\n",
      "Epoch 13/40\n",
      "938/938 [==============================] - 4s 5ms/step - loss: 0.5087 - accuracy: 0.7520 - val_loss: 0.5087 - val_accuracy: 0.7516\n",
      "Epoch 14/40\n",
      "938/938 [==============================] - 7s 7ms/step - loss: 0.5066 - accuracy: 0.7533 - val_loss: 0.5070 - val_accuracy: 0.7536\n",
      "Epoch 15/40\n",
      "938/938 [==============================] - 4s 4ms/step - loss: 0.5061 - accuracy: 0.7532 - val_loss: 0.5078 - val_accuracy: 0.7528\n",
      "Epoch 16/40\n",
      "938/938 [==============================] - 5s 5ms/step - loss: 0.5063 - accuracy: 0.7526 - val_loss: 0.5062 - val_accuracy: 0.7548\n",
      "Epoch 17/40\n",
      "938/938 [==============================] - 5s 5ms/step - loss: 0.5048 - accuracy: 0.7544 - val_loss: 0.5055 - val_accuracy: 0.7555\n",
      "Epoch 18/40\n",
      "938/938 [==============================] - 5s 6ms/step - loss: 0.5040 - accuracy: 0.7541 - val_loss: 0.5066 - val_accuracy: 0.7535\n",
      "Epoch 19/40\n",
      "938/938 [==============================] - 5s 5ms/step - loss: 0.5049 - accuracy: 0.7548 - val_loss: 0.5062 - val_accuracy: 0.7547\n",
      "Epoch 20/40\n",
      "938/938 [==============================] - 5s 5ms/step - loss: 0.5019 - accuracy: 0.7560 - val_loss: 0.5050 - val_accuracy: 0.7551\n",
      "Epoch 21/40\n",
      "938/938 [==============================] - 5s 6ms/step - loss: 0.5016 - accuracy: 0.7566 - val_loss: 0.5052 - val_accuracy: 0.7558\n",
      "Epoch 22/40\n",
      "938/938 [==============================] - 5s 5ms/step - loss: 0.5008 - accuracy: 0.7578 - val_loss: 0.5047 - val_accuracy: 0.7557\n",
      "Epoch 23/40\n",
      "938/938 [==============================] - 4s 5ms/step - loss: 0.5006 - accuracy: 0.7569 - val_loss: 0.5045 - val_accuracy: 0.7565\n",
      "Epoch 24/40\n",
      "938/938 [==============================] - 6s 6ms/step - loss: 0.5004 - accuracy: 0.7572 - val_loss: 0.5042 - val_accuracy: 0.7543\n",
      "Epoch 25/40\n",
      "938/938 [==============================] - 6s 6ms/step - loss: 0.4988 - accuracy: 0.7587 - val_loss: 0.5081 - val_accuracy: 0.7542\n",
      "Epoch 26/40\n",
      "938/938 [==============================] - 4s 5ms/step - loss: 0.4982 - accuracy: 0.7591 - val_loss: 0.5044 - val_accuracy: 0.7550\n",
      "Epoch 27/40\n",
      "938/938 [==============================] - 6s 6ms/step - loss: 0.4983 - accuracy: 0.7585 - val_loss: 0.5047 - val_accuracy: 0.7555\n",
      "Epoch 28/40\n",
      "938/938 [==============================] - 7s 7ms/step - loss: 0.4983 - accuracy: 0.7591 - val_loss: 0.5038 - val_accuracy: 0.7561\n",
      "Epoch 29/40\n",
      "938/938 [==============================] - 4s 5ms/step - loss: 0.4976 - accuracy: 0.7593 - val_loss: 0.5037 - val_accuracy: 0.7563\n",
      "Epoch 30/40\n",
      "938/938 [==============================] - 6s 7ms/step - loss: 0.4969 - accuracy: 0.7578 - val_loss: 0.5041 - val_accuracy: 0.7562\n",
      "Epoch 31/40\n",
      "938/938 [==============================] - 6s 7ms/step - loss: 0.4966 - accuracy: 0.7597 - val_loss: 0.5037 - val_accuracy: 0.7573\n",
      "Epoch 32/40\n",
      "938/938 [==============================] - 5s 5ms/step - loss: 0.4953 - accuracy: 0.7604 - val_loss: 0.5040 - val_accuracy: 0.7559\n",
      "Epoch 33/40\n",
      "938/938 [==============================] - 4s 5ms/step - loss: 0.4958 - accuracy: 0.7598 - val_loss: 0.5049 - val_accuracy: 0.7562\n",
      "Epoch 34/40\n",
      "938/938 [==============================] - 5s 5ms/step - loss: 0.4938 - accuracy: 0.7616 - val_loss: 0.5036 - val_accuracy: 0.7567\n",
      "Epoch 35/40\n",
      "938/938 [==============================] - 4s 5ms/step - loss: 0.4936 - accuracy: 0.7611 - val_loss: 0.5034 - val_accuracy: 0.7566\n",
      "Epoch 36/40\n",
      "938/938 [==============================] - 5s 6ms/step - loss: 0.4946 - accuracy: 0.7616 - val_loss: 0.5047 - val_accuracy: 0.7555\n",
      "Epoch 37/40\n",
      "938/938 [==============================] - 5s 5ms/step - loss: 0.4928 - accuracy: 0.7623 - val_loss: 0.5038 - val_accuracy: 0.7561\n",
      "Epoch 38/40\n",
      "938/938 [==============================] - 4s 4ms/step - loss: 0.4924 - accuracy: 0.7624 - val_loss: 0.5037 - val_accuracy: 0.7549\n",
      "Epoch 39/40\n",
      "938/938 [==============================] - 4s 5ms/step - loss: 0.4916 - accuracy: 0.7631 - val_loss: 0.5027 - val_accuracy: 0.7561\n",
      "Epoch 40/40\n",
      "938/938 [==============================] - 5s 6ms/step - loss: 0.4931 - accuracy: 0.7623 - val_loss: 0.5051 - val_accuracy: 0.7550\n",
      "Wall time: 3min 25s\n"
     ]
    }
   ],
   "source": [
    "%%time\n",
    "hist = model.fit(X_train, \n",
    "                 y_train, \n",
    "                 epochs=40,\n",
    "                 batch_size=128, \n",
    "                 validation_split=0.2,\n",
    "                 verbose = 1)\n",
    "# Benchmark time: 6 min per 25 epochs for 80 000 records/batch 32\n",
    "# Benchmark time: 2 min per 30 epochs for 80 000 records/64 nodes/batch 64\n",
    "# Benchmark time: 2.5  min per 30 epochs for 150 000 records/128 nodes/batch 128"
   ]
  },
  {
   "cell_type": "code",
   "execution_count": 73,
   "metadata": {
    "id": "QFzaqe-BsAh6"
   },
   "outputs": [
    {
     "data": {
      "text/plain": [
       "<function matplotlib.pyplot.show(close=None, block=None)>"
      ]
     },
     "execution_count": 73,
     "metadata": {},
     "output_type": "execute_result"
    },
    {
     "data": {
      "image/png": "[encoded data removed]",
      "text/plain": [
       "<Figure size 720x720 with 1 Axes>"
      ]
     },
     "metadata": {
      "needs_background": "light"
     },
     "output_type": "display_data"
    }
   ],
   "source": [
    "import matplotlib.pyplot as plt\n",
    "pd.DataFrame(hist.history).plot(figsize=(10,10))\n",
    "plt.grid(True)\n",
    "plt.show"
   ]
  },
  {
   "cell_type": "markdown",
   "metadata": {
    "id": "X7LEZSh6sHND"
   },
   "source": [
    "###Evaluate Model"
   ]
  },
  {
   "cell_type": "code",
   "execution_count": 74,
   "metadata": {
    "id": "HafoqSP2sIWx"
   },
   "outputs": [
    {
     "name": "stdout",
     "output_type": "stream",
     "text": [
      "94/94 - 0s - loss: 0.5054 - accuracy: 0.7543\n",
      "[0.5053826570510864, 0.7543333172798157]\n"
     ]
    }
   ],
   "source": [
    "accuracy_test = model.evaluate(X_test, y_test, verbose=2)\n",
    "print(accuracy_test)"
   ]
  },
  {
   "cell_type": "code",
   "execution_count": 75,
   "metadata": {
    "id": "vElpRbUEsKi6"
   },
   "outputs": [
    {
     "name": "stdout",
     "output_type": "stream",
     "text": [
      "['yaeljk get to a show girl do whatcha got to do what if this be -PRON- last tour omg i do not wanna think about -PRON-'\n",
      " 'ex boyfriend suck pete the alien'\n",
      " '.spaciestaycie which one do -PRON- like good'\n",
      " 'damn -PRON- back be hella hurtte at work'\n",
      " 'tristanwild unfortunately -PRON- day already over'\n",
      " 'nickrich i do leave , but i have to come back . n wat u tryin to say u want -PRON- to go away'\n",
      " 'misspipedream oh i feel very honoured lol . i know . -PRON- be read as i type . almost finish though'\n",
      " 'earn -PRON- cpr amp first aid certification'\n",
      " 'yay , people be follow -PRON- exciting'\n",
      " 'pworld i can not drink wine for a couple more day . -PRON- be on an antibiotic -PRON- be go to smh at someone now because of -PRON- lol']\n"
     ]
    }
   ],
   "source": [
    "print(X_train[0:10])"
   ]
  },
  {
   "cell_type": "markdown",
   "metadata": {
    "id": "iRaVKFdYsPMp"
   },
   "source": [
    "###Confusion Matrix"
   ]
  },
  {
   "cell_type": "code",
   "execution_count": 76,
   "metadata": {
    "id": "SQTHXzpssMiv"
   },
   "outputs": [],
   "source": [
    "def plot_confusion_matrix(cm, \n",
    "                          classes, \n",
    "                          normalize=False,\n",
    "                          title='CM', \n",
    "                          cmap=plt.cm.Greens):\n",
    "# This function prints and plots the confusion matrix. Normalization can be applied by setting `normalize=True`\n",
    "\n",
    "    if normalize:\n",
    "        cm = cm.astype('float') / cm.sum(axis=1)[:, np.newaxis]\n",
    "        # print(\"Normalized confusion matrix\") # print(cm)\n",
    "\n",
    "    plt.imshow(cm, interpolation='nearest', cmap=cmap) \n",
    "    plt.title(title)\n",
    "    plt.colorbar()\n",
    "\n",
    "    tick_marks = np.arange(len(classes)) \n",
    "    plt.xticks(tick_marks, classes, rotation=45) \n",
    "    plt.yticks(tick_marks, classes)\n",
    "\n",
    "    fmt = '.2f' if normalize else 'd'\n",
    "    thresh = cm.max() / 2.\n",
    "    for i, j in itertools.product(range(cm.shape[0]), range(cm.shape[1])):\n",
    "        plt.text(j, i, format(cm[i, j], fmt), \n",
    "                 horizontalalignment=\"center\",\n",
    "                 color=\"white\" if cm[i, j] > thresh else \"black\")\n",
    "        plt.tight_layout() \n",
    "        plt.ylabel('True label') \n",
    "        plt.xlabel('Predicted label')"
   ]
  },
  {
   "cell_type": "code",
   "execution_count": 77,
   "metadata": {
    "id": "M266l5dvsT6V"
   },
   "outputs": [],
   "source": [
    "y_test_rounded = np.argmax(y_test, axis=1)\n",
    "y_train_rounded = np.argmax(y_train, axis=1)"
   ]
  },
  {
   "cell_type": "code",
   "execution_count": 78,
   "metadata": {
    "id": "IK4VDXV5sWPP"
   },
   "outputs": [],
   "source": [
    "y_pred = model.predict(X_train)\n",
    "y_pred_rounded = np.argmax(y_pred, axis=1)"
   ]
  },
  {
   "cell_type": "code",
   "execution_count": 79,
   "metadata": {
    "id": "NoX72iqusYNb"
   },
   "outputs": [],
   "source": [
    "cmResults = confusion_matrix(y_train_rounded, y_pred_rounded) \n",
    "accuracy = accuracy_score(y_train_rounded, y_pred_rounded)"
   ]
  },
  {
   "cell_type": "code",
   "execution_count": 80,
   "metadata": {
    "id": "C5Bzl_WnsaCQ"
   },
   "outputs": [
    {
     "data": {
      "image/png": "[encoded data removed]",
      "text/plain": [
       "<Figure size 504x504 with 2 Axes>"
      ]
     },
     "metadata": {
      "needs_background": "light"
     },
     "output_type": "display_data"
    }
   ],
   "source": [
    "# Plot non-normalized confusion matrix \n",
    "class_names = ['Negative', 'Positive']\n",
    "plt.figure(figsize=(7,7));\n",
    "plot_confusion_matrix(cmResults, classes=class_names, title=str(MODEL)+ \"\\n\" +\"Accuracy: \" + str((accuracy*100).round(1)) + \"%\" +\"\\n\"+\"Train Data\");"
   ]
  },
  {
   "cell_type": "code",
   "execution_count": 81,
   "metadata": {
    "id": "ZdHqxnjkscus"
   },
   "outputs": [],
   "source": [
    "y_pred = model.predict(X_test)\n",
    "y_pred_rounded = np.argmax(y_pred, axis=1)\n",
    "cmResults = confusion_matrix(y_test_rounded, y_pred_rounded)\n",
    "accuracy = accuracy_score(y_test_rounded, y_pred_rounded)"
   ]
  },
  {
   "cell_type": "code",
   "execution_count": 82,
   "metadata": {
    "id": "hxfd9kRWse2P"
   },
   "outputs": [
    {
     "data": {
      "image/png": "[encoded data removed]",
      "text/plain": [
       "<Figure size 504x504 with 2 Axes>"
      ]
     },
     "metadata": {
      "needs_background": "light"
     },
     "output_type": "display_data"
    }
   ],
   "source": [
    "# Plot non-normalized confusion matrix \n",
    "plt.figure(figsize=(7,7));\n",
    "plot_confusion_matrix(cmResults, classes=class_names, \n",
    "                      title=str(MODEL)+ \"\\n\" +\"Accuracy: \" + str((accuracy*100).round(1)) + \"%\" +\"\\n\"+\"Test Data\",\n",
    "                      cmap=plt.cm.Blues);"
   ]
  },
  {
   "cell_type": "markdown",
   "metadata": {
    "id": "9dwLBm55shhn"
   },
   "source": [
    "###Test the Model with some sentences"
   ]
  },
  {
   "cell_type": "code",
   "execution_count": 83,
   "metadata": {
    "id": "-2jPjucnskFN"
   },
   "outputs": [],
   "source": [
    "# Create input tweets for testing the sentiment model \n",
    "tweets = {'tweet':['I do not dislike cabin cruisers',\n",
    "                   'Montreal is a nice city in the summer!!!',\n",
    "                    'I have a good feeling about this team#11212',\n",
    "                    'The Montreal hockey team will be making the playoffs',\n",
    "                    'The weather in Montreal is very nice in the summer',\n",
    "                    'Coronet has the best lines of all day cruisers',\n",
    "                    'The show was not funny...',\n",
    "                    'The dog is angry',\n",
    "                    'The food at the restaurant could be better',\n",
    "                    'The flight is a long one',\n",
    "                    'It would be nice if the weather was better in Montreal *&&%&*&##!1',\n",
    "                    'I dislike old cabin cruisers',\n",
    "                   ],\n",
    "          'sentiments':[4, \n",
    "                        4,\n",
    "                       4,\n",
    "                       4,\n",
    "                       4,\n",
    "                       4,\n",
    "                       0,\n",
    "                       0,\n",
    "                       0,\n",
    "                       0,\n",
    "                       0,\n",
    "                       0\n",
    "                      ]\n",
    "         } \n",
    "  \n",
    "# Create DataFrame \n",
    "df_test = pd.DataFrame(tweets)"
   ]
  },
  {
   "cell_type": "code",
   "execution_count": 84,
   "metadata": {
    "id": "kf65vzgFsmbG"
   },
   "outputs": [],
   "source": [
    "df_test['clean_tweet'] = df_test['tweet'].apply(lambda x: text_processing(x))"
   ]
  },
  {
   "cell_type": "code",
   "execution_count": 85,
   "metadata": {
    "id": "DXokAJdQsonD"
   },
   "outputs": [],
   "source": [
    "df_test[\"clean_tweet\"] = lemmatization(df_test[\"clean_tweet\"])"
   ]
  },
  {
   "cell_type": "code",
   "execution_count": 86,
   "metadata": {
    "id": "Po4c6saxsqwW"
   },
   "outputs": [
    {
     "data": {
      "text/html": [
       "<div>\n",
       "<style scoped>\n",
       "    .dataframe tbody tr th:only-of-type {\n",
       "        vertical-align: middle;\n",
       "    }\n",
       "\n",
       "    .dataframe tbody tr th {\n",
       "        vertical-align: top;\n",
       "    }\n",
       "\n",
       "    .dataframe thead th {\n",
       "        text-align: right;\n",
       "    }\n",
       "</style>\n",
       "<table border=\"1\" class=\"dataframe\">\n",
       "  <thead>\n",
       "    <tr style=\"text-align: right;\">\n",
       "      <th></th>\n",
       "      <th>tweet</th>\n",
       "      <th>sentiments</th>\n",
       "      <th>clean_tweet</th>\n",
       "    </tr>\n",
       "  </thead>\n",
       "  <tbody>\n",
       "    <tr>\n",
       "      <th>0</th>\n",
       "      <td>I do not dislike cabin cruisers</td>\n",
       "      <td>4</td>\n",
       "      <td>i do not dislike cabin cruiser</td>\n",
       "    </tr>\n",
       "    <tr>\n",
       "      <th>1</th>\n",
       "      <td>Montreal is a nice city in the summer!!!</td>\n",
       "      <td>4</td>\n",
       "      <td>montreal be a nice city in the summer</td>\n",
       "    </tr>\n",
       "    <tr>\n",
       "      <th>2</th>\n",
       "      <td>I have a good feeling about this team#11212</td>\n",
       "      <td>4</td>\n",
       "      <td>i have a good feeling about this team</td>\n",
       "    </tr>\n",
       "    <tr>\n",
       "      <th>3</th>\n",
       "      <td>The Montreal hockey team will be making the pl...</td>\n",
       "      <td>4</td>\n",
       "      <td>the montreal hockey team will be make the playoff</td>\n",
       "    </tr>\n",
       "    <tr>\n",
       "      <th>4</th>\n",
       "      <td>The weather in Montreal is very nice in the su...</td>\n",
       "      <td>4</td>\n",
       "      <td>the weather in montreal be very nice in the su...</td>\n",
       "    </tr>\n",
       "    <tr>\n",
       "      <th>5</th>\n",
       "      <td>Coronet has the best lines of all day cruisers</td>\n",
       "      <td>4</td>\n",
       "      <td>coronet have the good line of all day cruiser</td>\n",
       "    </tr>\n",
       "    <tr>\n",
       "      <th>6</th>\n",
       "      <td>The show was not funny...</td>\n",
       "      <td>0</td>\n",
       "      <td>the show be not funny ...</td>\n",
       "    </tr>\n",
       "    <tr>\n",
       "      <th>7</th>\n",
       "      <td>The dog is angry</td>\n",
       "      <td>0</td>\n",
       "      <td>the dog be angry</td>\n",
       "    </tr>\n",
       "    <tr>\n",
       "      <th>8</th>\n",
       "      <td>The food at the restaurant could be better</td>\n",
       "      <td>0</td>\n",
       "      <td>the food at the restaurant could be well</td>\n",
       "    </tr>\n",
       "    <tr>\n",
       "      <th>9</th>\n",
       "      <td>The flight is a long one</td>\n",
       "      <td>0</td>\n",
       "      <td>the flight be a long one</td>\n",
       "    </tr>\n",
       "    <tr>\n",
       "      <th>10</th>\n",
       "      <td>It would be nice if the weather was better in ...</td>\n",
       "      <td>0</td>\n",
       "      <td>-PRON- would be nice if the weather be well in...</td>\n",
       "    </tr>\n",
       "    <tr>\n",
       "      <th>11</th>\n",
       "      <td>I dislike old cabin cruisers</td>\n",
       "      <td>0</td>\n",
       "      <td>i dislike old cabin cruiser</td>\n",
       "    </tr>\n",
       "  </tbody>\n",
       "</table>\n",
       "</div>"
      ],
      "text/plain": [
       "                                                tweet  sentiments  \\\n",
       "0                     I do not dislike cabin cruisers           4   \n",
       "1            Montreal is a nice city in the summer!!!           4   \n",
       "2         I have a good feeling about this team#11212           4   \n",
       "3   The Montreal hockey team will be making the pl...           4   \n",
       "4   The weather in Montreal is very nice in the su...           4   \n",
       "5      Coronet has the best lines of all day cruisers           4   \n",
       "6                           The show was not funny...           0   \n",
       "7                                    The dog is angry           0   \n",
       "8          The food at the restaurant could be better           0   \n",
       "9                            The flight is a long one           0   \n",
       "10  It would be nice if the weather was better in ...           0   \n",
       "11                       I dislike old cabin cruisers           0   \n",
       "\n",
       "                                          clean_tweet  \n",
       "0                      i do not dislike cabin cruiser  \n",
       "1               montreal be a nice city in the summer  \n",
       "2               i have a good feeling about this team  \n",
       "3   the montreal hockey team will be make the playoff  \n",
       "4   the weather in montreal be very nice in the su...  \n",
       "5       coronet have the good line of all day cruiser  \n",
       "6                           the show be not funny ...  \n",
       "7                                    the dog be angry  \n",
       "8            the food at the restaurant could be well  \n",
       "9                            the flight be a long one  \n",
       "10  -PRON- would be nice if the weather be well in...  \n",
       "11                        i dislike old cabin cruiser  "
      ]
     },
     "execution_count": 86,
     "metadata": {},
     "output_type": "execute_result"
    }
   ],
   "source": [
    "df_test"
   ]
  },
  {
   "cell_type": "code",
   "execution_count": 87,
   "metadata": {
    "id": "r8gMGem5ssqb"
   },
   "outputs": [],
   "source": [
    "sentiments = df_test[\"sentiments\"].copy()\n",
    "label_encoder = LabelEncoder()\n",
    "sentiments = label_encoder.fit_transform(sentiments)\n",
    "sentiments = keras.utils.to_categorical(sentiments)"
   ]
  },
  {
   "cell_type": "code",
   "execution_count": 88,
   "metadata": {
    "id": "uLuKZGMxsuwE"
   },
   "outputs": [],
   "source": [
    "X_input = df_test[\"clean_tweet\"].values"
   ]
  },
  {
   "cell_type": "code",
   "execution_count": 89,
   "metadata": {
    "id": "0RmFBZjKswPZ"
   },
   "outputs": [
    {
     "name": "stdout",
     "output_type": "stream",
     "text": [
      "[[1. 0.]\n",
      " [0. 1.]\n",
      " [0. 1.]\n",
      " [0. 1.]\n",
      " [0. 1.]\n",
      " [0. 1.]\n",
      " [1. 0.]\n",
      " [1. 0.]\n",
      " [0. 1.]\n",
      " [1. 0.]\n",
      " [0. 1.]\n",
      " [1. 0.]]\n"
     ]
    }
   ],
   "source": [
    "print(model.predict(X_input).round(0))"
   ]
  },
  {
   "cell_type": "code",
   "execution_count": 90,
   "metadata": {
    "id": "dQJA_ibDsyZM"
   },
   "outputs": [
    {
     "name": "stdout",
     "output_type": "stream",
     "text": [
      "[[0. 1.]\n",
      " [0. 1.]\n",
      " [0. 1.]\n",
      " [0. 1.]\n",
      " [0. 1.]\n",
      " [0. 1.]\n",
      " [1. 0.]\n",
      " [1. 0.]\n",
      " [1. 0.]\n",
      " [1. 0.]\n",
      " [1. 0.]\n",
      " [1. 0.]]\n"
     ]
    }
   ],
   "source": [
    "print(sentiments)"
   ]
  },
  {
   "cell_type": "code",
   "execution_count": null,
   "metadata": {},
   "outputs": [],
   "source": []
  }
 ],
 "metadata": {
  "accelerator": "GPU",
  "colab": {
   "name": "sentimentAnalysis.ipynb",
   "private_outputs": true,
   "provenance": [],
   "toc_visible": true
  },
  "kernelspec": {
   "display_name": "Python 3",
   "language": "python",
   "name": "python3"
  },
  "language_info": {
   "codemirror_mode": {
    "name": "ipython",
    "version": 3
   },
   "file_extension": ".py",
   "mimetype": "text/x-python",
   "name": "python",
   "nbconvert_exporter": "python",
   "pygments_lexer": "ipython3",
   "version": "3.8.8"
  }
 },
 "nbformat": 4,
 "nbformat_minor": 4
}
